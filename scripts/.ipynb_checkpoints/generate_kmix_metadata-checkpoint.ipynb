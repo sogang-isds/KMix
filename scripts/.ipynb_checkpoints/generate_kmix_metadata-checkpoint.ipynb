{
 "cells": [
  {
   "cell_type": "code",
   "execution_count": 180,
   "id": "9557b615",
   "metadata": {},
   "outputs": [],
   "source": [
    "import os\n",
    "import argparse\n",
    "import soundfile as sf\n",
    "import pandas as pd\n",
    "import glob\n",
    "from tqdm import tqdm"
   ]
  },
  {
   "cell_type": "code",
   "execution_count": 181,
   "id": "d94eb15f",
   "metadata": {},
   "outputs": [],
   "source": [
    "NUMBER_OF_SECONDS = 3\n",
    "RATE = 16000"
   ]
  },
  {
   "cell_type": "code",
   "execution_count": 184,
   "id": "a0c272c8",
   "metadata": {},
   "outputs": [
    {
     "data": {
      "text/plain": [
       "_StoreAction(option_strings=['--out_dir'], dest='out_dir', nargs=None, const=None, default=None, type=<class 'str'>, choices=None, help='Path to ksponspeech metadata directory', metavar=None)"
      ]
     },
     "execution_count": 184,
     "metadata": {},
     "output_type": "execute_result"
    }
   ],
   "source": [
    "parser = argparse.ArgumentParser()\n",
    "parser.add_argument('--root_dir', type=str, required=False, default='/home/private_data/KoreanSpeech', help='Path to ksponspeech root directory')"
   ]
  },
  {
   "cell_type": "code",
   "execution_count": null,
   "id": "dd7a1739",
   "metadata": {},
   "outputs": [],
   "source": [
    "def main(args):\n",
    "    subset_name = ['dev-clean','test-clean', 'train-clean']\n",
    "    root_dir = args.root_dir\n",
    "    \n",
    "    for i in range(len(subset_name)):\n",
    "        create_ksponspeech_metadata(subset_name[i], root_dir)\n"
   ]
  },
  {
   "cell_type": "code",
   "execution_count": 185,
   "id": "4fdd8b61",
   "metadata": {},
   "outputs": [],
   "source": [
    "def load_data(subset, root_dir):\n",
    "    tmp = os.path.join(root_dir, subset)\n",
    "    wav_path = glob.glob(tmp + '/*/*/*.wav')\n",
    "    txt_path = glob.glob(tmp + '/*/*/KsponSpeech*.txt')\n",
    "    \n",
    "    return wav_path, txt_path, subset"
   ]
  },
  {
   "cell_type": "code",
   "execution_count": 186,
   "id": "3843f051",
   "metadata": {},
   "outputs": [],
   "source": [
    "def create_ksponspeech_metadata(subset, root_dir):\n",
    "\n",
    "    wav_path, txt_path, subset = load_data(subset, root_dir)\n",
    "    wav_path.sort()\n",
    "    txt_path.sort()\n",
    "    \n",
    "    #extract speaker_ID\n",
    "    speaker_ID = []\n",
    "    for i in range(len(wav_path)):\n",
    "        tmp_ID = wav_path[i].split('/')[-1]\n",
    "        speaker_ID.append(tmp_ID)\n",
    "        \n",
    "    #extract length\n",
    "    length = []\n",
    "    for i in range(len(wav_path)):\n",
    "        tmp_len = len(sf.SoundFile(wav_path[i]))\n",
    "        length.append(tmp_len)\n",
    "    \n",
    "    df = pd.DataFrame(columns=['speaker_ID','subset','length','origin_path','txt_path'])\n",
    "    df['speaker_ID'] = speaker_ID\n",
    "    df['subset'] = [subset]*len(wav_path)\n",
    "    df['length'] = length\n",
    "    df['origin_path'] = wav_path\n",
    "    df['txt_path'] = txt_path\n",
    "    \n",
    "    df = df[df['length'] >= NUMBER_OF_SECONDS * RATE]\n",
    "    df = df.sort_values('length')\n",
    "    \n",
    "    md_path = '../../metadata'\n",
    "    os.makedirs(md_path, exist_ok=True)\n",
    "    save_path = os.path.join(md_path, subset +'.csv')\n",
    "    df.to_csv(save_path, index=False)\n"
   ]
  },
  {
   "cell_type": "code",
   "execution_count": 176,
   "id": "c04c733b",
   "metadata": {
    "scrolled": true
   },
   "outputs": [],
   "source": []
  },
  {
   "cell_type": "code",
   "execution_count": null,
   "id": "a512dae1",
   "metadata": {},
   "outputs": [],
   "source": []
  },
  {
   "cell_type": "code",
   "execution_count": null,
   "id": "a89410b2",
   "metadata": {},
   "outputs": [],
   "source": []
  },
  {
   "cell_type": "code",
   "execution_count": 187,
   "id": "aa680fe8",
   "metadata": {},
   "outputs": [],
   "source": [
    "subset_name = ['dev-clean','test-clean', 'train-clean']"
   ]
  },
  {
   "cell_type": "code",
   "execution_count": 192,
   "id": "c7d4ec1b",
   "metadata": {},
   "outputs": [
    {
     "name": "stderr",
     "output_type": "stream",
     "text": [
      "100%|█████████████████████████████████████████████| 3/3 [00:04<00:00,  1.39s/it]\n"
     ]
    }
   ],
   "source": [
    "root_dir = '/home/private_data/KoreanSpeech'\n",
    "ID_test = []\n",
    "ID_dev = []\n",
    "ID_train = []\n",
    "\n",
    "for i in tqdm(range(len(subset_name))):\n",
    "    tmp = os.path.join(root_dir, subset_name[i])\n",
    "    wav_path = glob.glob(tmp + '/*/*/*.wav')\n",
    "    txt_path = glob.glob(tmp + '/*/*/KsponSpeech*.txt')\n",
    "    \n",
    "    wav_path.sort()\n",
    "    txt_path.sort()\n",
    "\n",
    "    \n",
    "    if subset_name[i] == 'test-clean':\n",
    "\n",
    "        for i in range(len(wav_path)):\n",
    "            tmp_ID = wav_path[i].split('/')[-1]\n",
    "            ID_test.append(tmp_ID)\n",
    "    \n",
    "    elif subset_name[i] == 'dev-clean':\n",
    "\n",
    "        for i in range(len(wav_path)):\n",
    "                tmp_ID = wav_path[i].split('/')[-1]\n",
    "                ID_dev.append(tmp_ID)\n",
    "    else:\n",
    "        \n",
    "        for i in range(len(wav_path)):\n",
    "                tmp_ID = wav_path[i].split('/')[-1]\n",
    "                ID_train.append(tmp_ID)\n",
    "        \n",
    "    "
   ]
  },
  {
   "cell_type": "code",
   "execution_count": null,
   "id": "37c65a09",
   "metadata": {},
   "outputs": [],
   "source": []
  }
 ],
 "metadata": {
  "kernelspec": {
   "display_name": "workspace",
   "language": "python",
   "name": "workspace"
  },
  "language_info": {
   "codemirror_mode": {
    "name": "ipython",
    "version": 3
   },
   "file_extension": ".py",
   "mimetype": "text/x-python",
   "name": "python",
   "nbconvert_exporter": "python",
   "pygments_lexer": "ipython3",
   "version": "3.8.10"
  }
 },
 "nbformat": 4,
 "nbformat_minor": 5
}
